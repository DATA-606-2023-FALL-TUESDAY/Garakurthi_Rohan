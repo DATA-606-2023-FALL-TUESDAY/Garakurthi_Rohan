{
 "cells": [
  {
   "cell_type": "markdown",
   "id": "30bf36fb",
   "metadata": {},
   "source": [
    "Actually the dataset is full of images. So I cannot identify the target variable and explore the dataset. I will explain about the dataset and about the project on 12th September class."
   ]
  }
 ],
 "metadata": {
  "kernelspec": {
   "display_name": "Python 3 (ipykernel)",
   "language": "python",
   "name": "python3"
  },
  "language_info": {
   "codemirror_mode": {
    "name": "ipython",
    "version": 3
   },
   "file_extension": ".py",
   "mimetype": "text/x-python",
   "name": "python",
   "nbconvert_exporter": "python",
   "pygments_lexer": "ipython3",
   "version": "3.9.7"
  }
 },
 "nbformat": 4,
 "nbformat_minor": 5
}
